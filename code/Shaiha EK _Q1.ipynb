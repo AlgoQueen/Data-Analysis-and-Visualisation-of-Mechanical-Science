{
 "cells": [
  {
   "cell_type": "code",
   "execution_count": 5,
   "metadata": {},
   "outputs": [
    {
     "name": "stdout",
     "output_type": "stream",
     "text": [
      "[      0       1       1       2       3       5       8      13      21\n",
      "      34      55      89     144     233     377     610     987    1597\n",
      "    2584    4181    6765   10946   17711   28657   46368   75025  121393\n",
      "  196418  317811  514229  832040 1346269 2178309 3524578]\n"
     ]
    }
   ],
   "source": [
    "\n",
    "# sum of odd and even in fibnocci less than 4 million\n",
    "import numpy as np\n",
    "a,b = 0,1;\n",
    "odd =0;\n",
    "even=0;\n",
    "\n",
    "fib=[];// it is a list\n",
    "\n",
    "while a<=4000000:\n",
    "    fib.append(a);\n",
    "    a,b = b,a+b;\n",
    "\n",
    "fib = np.array(fib);\n",
    "print(fib);"
   ]
  },
  {
   "cell_type": "code",
   "execution_count": 6,
   "metadata": {},
   "outputs": [],
   "source": [
    "even=np.sum(fib[fib%2==0]);\n",
    "odd=np.sum(fib[fib%2!=0]);"
   ]
  },
  {
   "cell_type": "code",
   "execution_count": 10,
   "metadata": {},
   "outputs": [
    {
     "name": "stdout",
     "output_type": "stream",
     "text": [
      "[      0       2       8      34     144     610    2584   10946   46368\n",
      "  196418  832040 3524578]\n"
     ]
    }
   ],
   "source": [
    "#print([fib%2==0]);\n",
    "print(fib[fib%2 == 0]);\n"
   ]
  },
  {
   "cell_type": "code",
   "execution_count": 7,
   "metadata": {},
   "outputs": [
    {
     "name": "stdout",
     "output_type": "stream",
     "text": [
      "Sum of even numbers in fibnocci series less than 4 million is  4613732\n",
      "Sum of odd numbers in fibnocci series less than 4 million is  4613732\n"
     ]
    }
   ],
   "source": [
    "print(\"Sum of even numbers in fibnocci series less than 4 million is \",even);\n",
    "print(\"Sum of odd numbers in fibnocci series less than 4 million is \",odd);"
   ]
  }
 ],
 "metadata": {
  "kernelspec": {
   "display_name": "Python 3",
   "language": "python",
   "name": "python3"
  },
  "language_info": {
   "codemirror_mode": {
    "name": "ipython",
    "version": 3
   },
   "file_extension": ".py",
   "mimetype": "text/x-python",
   "name": "python",
   "nbconvert_exporter": "python",
   "pygments_lexer": "ipython3",
   "version": "3.10.6"
  }
 },
 "nbformat": 4,
 "nbformat_minor": 2
}
