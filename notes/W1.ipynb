{
 "cells": [
  {
   "cell_type": "markdown",
   "metadata": {},
   "source": [
    "NUMPY"
   ]
  },
  {
   "cell_type": "code",
   "execution_count": 48,
   "metadata": {},
   "outputs": [],
   "source": [
    "import numpy as np"
   ]
  },
  {
   "cell_type": "code",
   "execution_count": 49,
   "metadata": {},
   "outputs": [
    {
     "name": "stdout",
     "output_type": "stream",
     "text": [
      "[1 2 3]\n"
     ]
    }
   ],
   "source": [
    "data1 = np.array([1, 2, 3])\n",
    "print(data1)"
   ]
  },
  {
   "cell_type": "code",
   "execution_count": 50,
   "metadata": {},
   "outputs": [
    {
     "name": "stdout",
     "output_type": "stream",
     "text": [
      "[[1. 2. 3.]\n",
      " [4. 5. 7.]]\n"
     ]
    }
   ],
   "source": [
    "data2 = np.array([[1, 2, 3], [4, 5, 7.0]])\n",
    "print(data2)"
   ]
  },
  {
   "cell_type": "markdown",
   "metadata": {},
   "source": [
    "1. Queries about the array:\n",
    "- shape\n",
    "- size\n",
    "- ndim\n",
    "- nbytes\n",
    "- dtype\n"
   ]
  },
  {
   "cell_type": "code",
   "execution_count": 51,
   "metadata": {},
   "outputs": [
    {
     "name": "stdout",
     "output_type": "stream",
     "text": [
      "Shape of data2: (2, 3)\n",
      "Size of data2: 6\n",
      "Number of dimensions of data2: 2\n",
      "Number of bytes used by data2: 48\n",
      "Data type of data2: float64\n"
     ]
    }
   ],
   "source": [
    "print(\"Shape of data2:\", data2.shape)\n",
    "print(\"Size of data2:\", data2.size)\n",
    "print(\"Number of dimensions of data2:\", data2.ndim)\n",
    "print(\"Number of bytes used by data2:\", data2.nbytes)\n",
    "print(\"Data type of data2:\", data2.dtype)"
   ]
  },
  {
   "cell_type": "markdown",
   "metadata": {},
   "source": [
    "Extracting rows and colums"
   ]
  },
  {
   "cell_type": "code",
   "execution_count": 52,
   "metadata": {},
   "outputs": [
    {
     "name": "stdout",
     "output_type": "stream",
     "text": [
      "Number of rows: 2\n",
      "Number of columns: 3\n",
      "Data type of data2: float64\n"
     ]
    }
   ],
   "source": [
    "n_r = data2.shape[0];\n",
    "n_c = data2.shape[1];\n",
    "print(\"Number of rows:\", n_r)\n",
    "print(\"Number of columns:\", n_c)\n",
    "print(\"Data type of data2:\", data2.dtype)"
   ]
  },
  {
   "cell_type": "markdown",
   "metadata": {},
   "source": [
    "Type casting"
   ]
  },
  {
   "cell_type": "code",
   "execution_count": 53,
   "metadata": {},
   "outputs": [
    {
     "name": "stdout",
     "output_type": "stream",
     "text": [
      "complex64\n",
      "[1.+0.j 2.+0.j 3.+0.j]\n"
     ]
    }
   ],
   "source": [
    "data = np.array([1,2,3], dtype=np.complex64)\n",
    "print(data.dtype)\n",
    "print(data)"
   ]
  },
  {
   "cell_type": "code",
   "execution_count": 54,
   "metadata": {},
   "outputs": [
    {
     "name": "stdout",
     "output_type": "stream",
     "text": [
      "int32\n",
      "[1 2 3]\n"
     ]
    }
   ],
   "source": [
    "# Typecasting using astype method\n",
    "data_int = np.array([1.0, 2.0, 3.0])\n",
    "data_int = data_int.astype(np.int32)\n",
    "print(data_int.dtype)\n",
    "print(data_int)"
   ]
  },
  {
   "cell_type": "code",
   "execution_count": 55,
   "metadata": {},
   "outputs": [
    {
     "name": "stdout",
     "output_type": "stream",
     "text": [
      "[1.+0.j 2.+0.j 3.+0.j]\n"
     ]
    }
   ],
   "source": [
    "data=np.array([1,2,3])\n",
    "data =data.astype(np.complex64)\n",
    "print(data)"
   ]
  },
  {
   "cell_type": "markdown",
   "metadata": {},
   "source": [
    "2. Array initialization methods\n",
    "- One should avoid dynamic arrays\n",
    "- C -> malloc\n"
   ]
  },
  {
   "cell_type": "code",
   "execution_count": 56,
   "metadata": {},
   "outputs": [
    {
     "name": "stdout",
     "output_type": "stream",
     "text": [
      "[[[0. 0.]\n",
      "  [0. 0.]]\n",
      "\n",
      " [[0. 0.]\n",
      "  [0. 0.]]]\n"
     ]
    }
   ],
   "source": [
    "#array initialisation\n",
    "a=np.zeros([2,2,2])\n",
    "print(a)"
   ]
  },
  {
   "cell_type": "code",
   "execution_count": 57,
   "metadata": {},
   "outputs": [
    {
     "name": "stdout",
     "output_type": "stream",
     "text": [
      "[[1. 0. 0. 0. 0.]\n",
      " [0. 1. 0. 0. 0.]\n",
      " [0. 0. 1. 0. 0.]\n",
      " [0. 0. 0. 1. 0.]\n",
      " [0. 0. 0. 0. 1.]]\n"
     ]
    }
   ],
   "source": [
    "# Creating a 5x5 identity matrix\n",
    "c = np.eye(5) # or np.identity(5)\n",
    "print(c)"
   ]
  },
  {
   "cell_type": "markdown",
   "metadata": {},
   "source": [
    "Create a diagonal matrix"
   ]
  },
  {
   "cell_type": "code",
   "execution_count": 58,
   "metadata": {},
   "outputs": [
    {
     "name": "stdout",
     "output_type": "stream",
     "text": [
      "[1 5 9]\n",
      "[[1 0 0]\n",
      " [0 2 0]\n",
      " [0 0 3]]\n",
      "[1 5]\n"
     ]
    }
   ],
   "source": [
    "d=np.array([[1,2,3],[4,5,6],[7,8,9]])\n",
    "#print(d)\n",
    "e= np.diag(d)\n",
    "print(e)\n",
    "d1=np.array([1,2,3])\n",
    "e1=np.diag(d1)\n",
    "print(e1)\n",
    "d2 = np.array([[1,2,3],[4,5,6]])\n",
    "e2=np.diag(d2)\n",
    "print(e2)"
   ]
  },
  {
   "cell_type": "code",
   "execution_count": 59,
   "metadata": {},
   "outputs": [
    {
     "name": "stdout",
     "output_type": "stream",
     "text": [
      "[1 2 3]\n",
      "[[1 0 0]\n",
      " [0 2 0]\n",
      " [0 0 3]]\n"
     ]
    }
   ],
   "source": [
    "print(data1)\n",
    "d = np.diag(data1)\n",
    "print(d)"
   ]
  },
  {
   "cell_type": "markdown",
   "metadata": {},
   "source": [
    "Linspace and Logspace"
   ]
  },
  {
   "cell_type": "code",
   "execution_count": 60,
   "metadata": {},
   "outputs": [
    {
     "name": "stdout",
     "output_type": "stream",
     "text": [
      "[1.  1.1 1.2 1.3 1.4 1.5 1.6 1.7 1.8 1.9 2. ]\n",
      "[ 100.          125.89254118  158.48931925  199.5262315   251.18864315\n",
      "  316.22776602  398.10717055  501.18723363  630.95734448  794.32823472\n",
      " 1000.        ]\n",
      "(11,)\n"
     ]
    }
   ],
   "source": [
    "e = np.linspace(1, 2, 11)\n",
    "print(e)\n",
    "f = np.logspace(2, 3, 11)\n",
    "print(f)\n",
    "print(f.shape)"
   ]
  },
  {
   "cell_type": "code",
   "execution_count": 61,
   "metadata": {},
   "outputs": [],
   "source": [
    "g = lambda i,j: i*j"
   ]
  },
  {
   "cell_type": "code",
   "execution_count": 62,
   "metadata": {},
   "outputs": [
    {
     "name": "stdout",
     "output_type": "stream",
     "text": [
      "6\n"
     ]
    }
   ],
   "source": [
    "print(g(2,3))"
   ]
  },
  {
   "cell_type": "markdown",
   "metadata": {},
   "source": [
    "- Printing the `data1` array and its diagonal matrix.\n",
    "- Using `linspace` and `logspace` for creating arrays.\n",
    "- Defining a lambda function.\n",
    "- Testing the lambda function."
   ]
  },
  {
   "cell_type": "code",
   "execution_count": 63,
   "metadata": {},
   "outputs": [
    {
     "name": "stdout",
     "output_type": "stream",
     "text": [
      "[0. 1. 2. 3. 4. 5.] [ 0.  1.  2.  3.  4.  5.  6.  7.  8.  9. 10.]\n"
     ]
    }
   ],
   "source": [
    "x1 = np.linspace(0,5,6)\n",
    "y1 = np.linspace(0,10,11)\n",
    "\n",
    "print(x1, y1)"
   ]
  },
  {
   "cell_type": "code",
   "execution_count": 64,
   "metadata": {},
   "outputs": [
    {
     "name": "stdout",
     "output_type": "stream",
     "text": [
      "[[0. 1. 2. 3. 4. 5.]\n",
      " [0. 1. 2. 3. 4. 5.]\n",
      " [0. 1. 2. 3. 4. 5.]\n",
      " [0. 1. 2. 3. 4. 5.]\n",
      " [0. 1. 2. 3. 4. 5.]\n",
      " [0. 1. 2. 3. 4. 5.]\n",
      " [0. 1. 2. 3. 4. 5.]\n",
      " [0. 1. 2. 3. 4. 5.]\n",
      " [0. 1. 2. 3. 4. 5.]\n",
      " [0. 1. 2. 3. 4. 5.]\n",
      " [0. 1. 2. 3. 4. 5.]]\n"
     ]
    }
   ],
   "source": [
    "x,y = np.meshgrid(x1,y1)\n",
    "print(x)"
   ]
  },
  {
   "cell_type": "code",
   "execution_count": 65,
   "metadata": {},
   "outputs": [
    {
     "name": "stdout",
     "output_type": "stream",
     "text": [
      "[[ 0.          0.         -0.         -0.         -0.          0.        ]\n",
      " [ 0.84147098  0.45464871 -0.35017549 -0.83304996 -0.55002214  0.2386935 ]\n",
      " [ 0.90929743  0.4912955  -0.37840125 -0.90019763 -0.59435646  0.2579333 ]\n",
      " [ 0.14112001  0.07624747 -0.05872664 -0.13970775 -0.09224219  0.04003041]\n",
      " [-0.7568025  -0.40890213  0.31494096  0.74922879  0.49467912 -0.21467625]\n",
      " [-0.95892427 -0.518109    0.3990533   0.94932784  0.62679474 -0.27201056]\n",
      " [-0.2794155  -0.15096884  0.11627788  0.27661925  0.18263816 -0.07925961]\n",
      " [ 0.6569866   0.35497137 -0.27340289 -0.6504118  -0.4294351   0.18636225]\n",
      " [ 0.98935825  0.53455254 -0.4117183  -0.97945724 -0.64668771  0.28064352]\n",
      " [ 0.41211849  0.22266857 -0.1715018  -0.40799421 -0.26937862  0.11690243]\n",
      " [-0.54402111 -0.29393586  0.22639266  0.53857682  0.35559593 -0.15431822]]\n"
     ]
    }
   ],
   "source": [
    "Z = np.cos(x) * np.sin(y)\n",
    "print(Z)"
   ]
  },
  {
   "cell_type": "code",
   "execution_count": 66,
   "metadata": {},
   "outputs": [
    {
     "name": "stdout",
     "output_type": "stream",
     "text": [
      "[0.         0.45454545 0.90909091 1.36363636 1.81818182 2.27272727\n",
      " 2.72727273 3.18181818 3.63636364 4.09090909 4.54545455 5.        ]\n",
      "[0.         0.45454545 0.90909091 1.36363636 1.81818182 2.27272727\n",
      " 2.72727273 3.18181818 3.63636364 4.09090909 4.54545455 5.        ]\n",
      "[-1.          0.45454545  0.90909091  1.36363636  1.81818182  2.27272727\n",
      "  2.72727273  3.18181818  3.63636364  4.09090909  4.54545455  5.        ]\n",
      "[0.         0.45454545 0.90909091 1.36363636 1.81818182 2.27272727\n",
      " 2.72727273 3.18181818 3.63636364 4.09090909 4.54545455 5.        ]\n"
     ]
    }
   ],
   "source": [
    "# Creating and manipulating arrays x2 and y2\n",
    "x2 = np.linspace(0, 5, 12)\n",
    "y2 = x2.copy()  # Copy x2 to y2\n",
    "print(x2)\n",
    "print(y2)\n",
    "y2[0] = -1  # Modify the first element of y2\n",
    "print(y2)\n",
    "print(x2)"
   ]
  },
  {
   "cell_type": "code",
   "execution_count": 67,
   "metadata": {},
   "outputs": [
    {
     "name": "stdout",
     "output_type": "stream",
     "text": [
      "[0. 1. 2. 3. 4. 5. 6.]\n",
      "[0. 1. 2. 3. 4. 5. 6.]\n",
      "[-1.  1.  2.  3.  4.  5.  6.]\n",
      "[-1.  1.  2.  3.  4.  5.  6.]\n"
     ]
    }
   ],
   "source": [
    "\n",
    "x3 = np.linspace(0, 6, 7)\n",
    "y3 = x3  # Copy x2 to y2\n",
    "print(x3)\n",
    "print(y3)\n",
    "y3[0] = -1 \n",
    "print(y3)\n",
    "print(x3)"
   ]
  },
  {
   "cell_type": "code",
   "execution_count": 68,
   "metadata": {},
   "outputs": [
    {
     "name": "stdout",
     "output_type": "stream",
     "text": [
      "[[1. 0. 0. 0. 0.]\n",
      " [0. 1. 0. 0. 0.]\n",
      " [0. 0. 1. 0. 0.]\n",
      " [0. 0. 0. 1. 0.]\n",
      " [0. 0. 0. 0. 1.]]\n"
     ]
    }
   ],
   "source": [
    "# Creating an identity matrix and printing it\n",
    "identity_matrix = np.eye(5)\n",
    "print(identity_matrix)"
   ]
  },
  {
   "cell_type": "markdown",
   "metadata": {},
   "source": [
    "- Creating and manipulating arrays `x2` and `y2`.\n",
    "- Creating and printing an identity matrix.\n"
   ]
  },
  {
   "cell_type": "code",
   "execution_count": 69,
   "metadata": {},
   "outputs": [
    {
     "name": "stdout",
     "output_type": "stream",
     "text": [
      "[[1. 0. 0. 0. 0. 0. 0. 0. 0. 0. 0. 0.]\n",
      " [0. 1. 0. 0. 0. 0. 0. 0. 0. 0. 0. 0.]\n",
      " [0. 0. 1. 0. 0. 0. 0. 0. 0. 0. 0. 0.]\n",
      " [0. 0. 0. 1. 0. 0. 0. 0. 0. 0. 0. 0.]\n",
      " [0. 0. 0. 0. 1. 0. 0. 0. 0. 0. 0. 0.]\n",
      " [0. 0. 0. 0. 0. 1. 0. 0. 0. 0. 0. 0.]\n",
      " [0. 0. 0. 0. 0. 0. 1. 0. 0. 0. 0. 0.]\n",
      " [0. 0. 0. 0. 0. 0. 0. 1. 0. 0. 0. 0.]\n",
      " [0. 0. 0. 0. 0. 0. 0. 0. 1. 0. 0. 0.]\n",
      " [0. 0. 0. 0. 0. 0. 0. 0. 0. 1. 0. 0.]\n",
      " [0. 0. 0. 0. 0. 0. 0. 0. 0. 0. 1. 0.]\n",
      " [0. 0. 0. 0. 0. 0. 0. 0. 0. 0. 0. 1.]]\n"
     ]
    }
   ],
   "source": [
    "y3 = np.eye(len(x2))\n",
    "print(y3)"
   ]
  },
  {
   "cell_type": "code",
   "execution_count": 72,
   "metadata": {},
   "outputs": [
    {
     "data": {
      "text/plain": [
       "array([[1., 0., 0., 0., 0., 0., 0., 0., 0., 0., 0., 0.],\n",
       "       [0., 1., 0., 0., 0., 0., 0., 0., 0., 0., 0., 0.],\n",
       "       [0., 0., 1., 0., 0., 0., 0., 0., 0., 0., 0., 0.],\n",
       "       [0., 0., 0., 1., 0., 0., 0., 0., 0., 0., 0., 0.],\n",
       "       [0., 0., 0., 0., 1., 0., 0., 0., 0., 0., 0., 0.],\n",
       "       [0., 0., 0., 0., 0., 1., 0., 0., 0., 0., 0., 0.],\n",
       "       [0., 0., 0., 0., 0., 0., 1., 0., 0., 0., 0., 0.],\n",
       "       [0., 0., 0., 0., 0., 0., 0., 1., 0., 0., 0., 0.],\n",
       "       [0., 0., 0., 0., 0., 0., 0., 0., 1., 0., 0., 0.],\n",
       "       [0., 0., 0., 0., 0., 0., 0., 0., 0., 1., 0., 0.],\n",
       "       [0., 0., 0., 0., 0., 0., 0., 0., 0., 0., 1., 0.],\n",
       "       [0., 0., 0., 0., 0., 0., 0., 0., 0., 0., 0., 1.]])"
      ]
     },
     "execution_count": 72,
     "metadata": {},
     "output_type": "execute_result"
    }
   ],
   "source": [
    "y3 = np.diag(np.ones(np.shape(x2)))\n",
    "y3"
   ]
  },
  {
   "cell_type": "code",
   "execution_count": 70,
   "metadata": {},
   "outputs": [
    {
     "name": "stdout",
     "output_type": "stream",
     "text": [
      "[ 0.00000000e+00  3.24699469e-01  6.14212713e-01  8.37166478e-01\n",
      "  9.69400266e-01  9.96584493e-01  9.15773327e-01  7.35723911e-01\n",
      "  4.75947393e-01  1.64594590e-01 -1.64594590e-01 -4.75947393e-01\n",
      " -7.35723911e-01 -9.15773327e-01 -9.96584493e-01 -9.69400266e-01\n",
      " -8.37166478e-01 -6.14212713e-01 -3.24699469e-01 -2.44929360e-16]\n",
      "[ True  True  True  True  True  True  True  True  True  True False False\n",
      " False False False False False False False False]\n",
      "[0.         0.32469947 0.61421271 0.83716648 0.96940027 0.99658449\n",
      " 0.91577333 0.73572391 0.47594739 0.16459459]\n"
     ]
    }
   ],
   "source": [
    "x = np.linspace(0, 2 * np.pi, 20)\n",
    "y = np.sin(x)\n",
    "mask = y >= 0 # Create a boolean mask\n",
    "print(y)\n",
    "print(mask)\n",
    "print(y[mask])\n"
   ]
  },
  {
   "cell_type": "code",
   "execution_count": 73,
   "metadata": {},
   "outputs": [
    {
     "name": "stdout",
     "output_type": "stream",
     "text": [
      "[ 0.00000000e+00  3.24699469e-01  6.14212713e-01  8.37166478e-01\n",
      "  9.69400266e-01  9.96584493e-01  9.15773327e-01  7.35723911e-01\n",
      "  4.75947393e-01  1.64594590e-01 -1.64594590e-01 -4.75947393e-01\n",
      " -7.35723911e-01 -9.15773327e-01 -9.96584493e-01 -9.69400266e-01\n",
      " -8.37166478e-01 -6.14212713e-01 -3.24699469e-01 -2.44929360e-16]\n",
      "[ True  True  True  True  True  True  True  True  True  True False False\n",
      " False False False False False False False False]\n",
      "[0.32469947 0.61421271 0.83716648 0.96940027 0.99658449 0.91577333\n",
      " 0.73572391 0.47594739 0.16459459]\n",
      "[0.         0.05263158 0.10526316 0.15789474 0.21052632 0.26315789\n",
      " 0.31578947 0.36842105 0.42105263 0.47368421 0.52631579 0.57894737\n",
      " 0.63157895 0.68421053 0.73684211 0.78947368 0.84210526 0.89473684\n",
      " 0.94736842 1.        ]\n",
      "[0.05263158 0.10526316 0.15789474 0.21052632 0.26315789 0.31578947\n",
      " 0.36842105 0.42105263 0.47368421]\n"
     ]
    }
   ],
   "source": [
    "A = np.sin(np.linspace(0, 2 * np.pi, 20))\n",
    "print(A)\n",
    "B = A[A > 0]\n",
    "print(A >= 0)\n",
    "print(B)\n",
    "\n",
    "C = np.linspace(0, 1, 20)\n",
    "D = C[A > 0]\n",
    "print(C)\n",
    "print(D)"
   ]
  },
  {
   "cell_type": "code",
   "execution_count": 74,
   "metadata": {},
   "outputs": [
    {
     "name": "stdout",
     "output_type": "stream",
     "text": [
      "[0 1 2 3 4 5 6 7 8 9]\n",
      "[20  1  3  4  5  7]\n",
      "[0 1 2 3 4 5 6 7 8 9]\n"
     ]
    }
   ],
   "source": [
    "A = np.arange(10)\n",
    "print(A)\n",
    "\n",
    "indices = np.array([True, True, False, True, True,\n",
    "                   True, False, True, False, False])\n",
    "B = A[indices]  # not a view, it's a copy\n",
    "B[0] = 20\n",
    "print(B)\n",
    "print(A)"
   ]
  },
  {
   "cell_type": "code",
   "execution_count": 76,
   "metadata": {},
   "outputs": [
    {
     "data": {
      "text/plain": [
       "array([10, 11, 12, 13, 14, 15, 16, 17, 18, 19])"
      ]
     },
     "execution_count": 76,
     "metadata": {},
     "output_type": "execute_result"
    }
   ],
   "source": [
    "a = np.arange(10,20)\n",
    "a"
   ]
  },
  {
   "cell_type": "code",
   "execution_count": 78,
   "metadata": {},
   "outputs": [
    {
     "data": {
      "text/plain": [
       "array([[100, 110, 120, 130, 140, 150, 160, 170, 180, 190],\n",
       "       [110, 121, 132, 143, 154, 165, 176, 187, 198, 209],\n",
       "       [120, 132, 144, 156, 168, 180, 192, 204, 216, 228],\n",
       "       [130, 143, 156, 169, 182, 195, 208, 221, 234, 247],\n",
       "       [140, 154, 168, 182, 196, 210, 224, 238, 252, 266],\n",
       "       [150, 165, 180, 195, 210, 225, 240, 255, 270, 285],\n",
       "       [160, 176, 192, 208, 224, 240, 256, 272, 288, 304],\n",
       "       [170, 187, 204, 221, 238, 255, 272, 289, 306, 323],\n",
       "       [180, 198, 216, 234, 252, 270, 288, 306, 324, 342],\n",
       "       [190, 209, 228, 247, 266, 285, 304, 323, 342, 361]])"
      ]
     },
     "execution_count": 78,
     "metadata": {},
     "output_type": "execute_result"
    }
   ],
   "source": [
    "b = np.outer(a,a)\n",
    "b"
   ]
  },
  {
   "cell_type": "code",
   "execution_count": 80,
   "metadata": {},
   "outputs": [
    {
     "data": {
      "text/plain": [
       "array([100, 110, 120, 130, 140, 150, 160, 170, 180, 190, 110, 121, 132,\n",
       "       143, 154, 165, 176, 187, 198, 209, 120, 132, 144, 156, 168, 180,\n",
       "       192, 204, 216, 228, 130, 143, 156, 169, 182, 195, 208, 221, 234,\n",
       "       247, 140, 154, 168, 182, 196, 210, 224, 238, 252, 266, 150, 165,\n",
       "       180, 195, 210, 225, 240, 255, 270, 285, 160, 176, 192, 208, 224,\n",
       "       240, 256, 272, 288, 304, 170, 187, 204, 221, 238, 255, 272, 289,\n",
       "       306, 323, 180, 198, 216, 234, 252, 270, 288, 306, 324, 342, 190,\n",
       "       209, 228, 247, 266, 285, 304, 323, 342, 361])"
      ]
     },
     "execution_count": 80,
     "metadata": {},
     "output_type": "execute_result"
    }
   ],
   "source": [
    "c=np.ravel(b) # flatten the array\n",
    "c"
   ]
  }
 ],
 "metadata": {
  "kernelspec": {
   "display_name": "Python 3",
   "language": "python",
   "name": "python3"
  },
  "language_info": {
   "codemirror_mode": {
    "name": "ipython",
    "version": 3
   },
   "file_extension": ".py",
   "mimetype": "text/x-python",
   "name": "python",
   "nbconvert_exporter": "python",
   "pygments_lexer": "ipython3",
   "version": "3.10.6"
  }
 },
 "nbformat": 4,
 "nbformat_minor": 2
}
