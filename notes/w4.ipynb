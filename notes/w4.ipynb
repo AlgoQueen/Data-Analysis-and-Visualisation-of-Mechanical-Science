{
 "cells": [
  {
   "cell_type": "code",
   "execution_count": null,
   "metadata": {},
   "outputs": [],
   "source": [
    "# simpy"
   ]
  },
  {
   "cell_type": "markdown",
   "metadata": {},
   "source": [
    "# sympy\n",
    "CAS  \n",
    "MAthematica Software\n",
    "pi\n",
    "GP Pari first symbolic manipulation for large factorial\n",
    "Solutions of PDE: Analytical, Serial(asymptotically, Perturbtaion)\n",
    "Millanium problem\n",
    "Scale factors\n",
    " "
   ]
  },
  {
   "cell_type": "code",
   "execution_count": 1,
   "metadata": {},
   "outputs": [
    {
     "name": "stdout",
     "output_type": "stream",
     "text": [
      "sin(2*x)/2\n"
     ]
    }
   ],
   "source": [
    "import sympy as sp\n",
    "x= sp.symbols('x')\n",
    "y= sp.sin(x)*sp.cos(x)\n",
    "print(sp.simplify(y))  "
   ]
  },
  {
   "cell_type": "code",
   "execution_count": 3,
   "metadata": {},
   "outputs": [
    {
     "name": "stdout",
     "output_type": "stream",
     "text": [
      "tan(x)\n"
     ]
    }
   ],
   "source": [
    "# import sympy as sp\n",
    "x = sp.symbols('x')\n",
    "# y = sp.sin(x)*sp.cos(x)\n",
    "y = sp.sin(x)*sp.cos(x)/sp.cos(x)**2\n",
    "print(sp.trigsimp(y))"
   ]
  },
  {
   "cell_type": "code",
   "execution_count": 6,
   "metadata": {},
   "outputs": [
    {
     "name": "stdout",
     "output_type": "stream",
     "text": [
      "x - 2\n"
     ]
    }
   ],
   "source": [
    "y= (x**2-4)/(x+2)\n",
    "print(sp.factor(y))"
   ]
  },
  {
   "cell_type": "code",
   "execution_count": 7,
   "metadata": {},
   "outputs": [
    {
     "name": "stdout",
     "output_type": "stream",
     "text": [
      "[2]\n"
     ]
    }
   ],
   "source": [
    "print(sp.solve(y)) # y=0,solve for x"
   ]
  },
  {
   "cell_type": "code",
   "execution_count": 8,
   "metadata": {},
   "outputs": [
    {
     "name": "stdout",
     "output_type": "stream",
     "text": [
      "{x*(x + 2)/2 - x*sqrt(4*x*(x*cos(x) - 2) + (x + 2)**2)/2: 1, x*(x + 2)/2 + x*sqrt(4*x*(x*cos(x) - 2) + (x + 2)**2)/2: 1}\n"
     ]
    }
   ],
   "source": [
    "A = sp.Matrix([[x**2,x**4],[sp.cos(x), 2*x]])\n",
    "eig_v = A.eigenvals()\n",
    "print(eig_v)"
   ]
  },
  {
   "cell_type": "code",
   "execution_count": 9,
   "metadata": {},
   "outputs": [
    {
     "name": "stdout",
     "output_type": "stream",
     "text": [
      "x*(x + 2)/2 - x*sqrt(4*x*(x*cos(x) - 2) + (x + 2)**2)/2\n",
      "x*(x + 2)/2 + x*sqrt(4*x*(x*cos(x) - 2) + (x + 2)**2)/2\n"
     ]
    }
   ],
   "source": [
    "for i in eig_v:\n",
    "    print(i)"
   ]
  },
  {
   "cell_type": "code",
   "execution_count": 10,
   "metadata": {},
   "outputs": [
    {
     "name": "stdout",
     "output_type": "stream",
     "text": [
      "[(x*(x + 2)/2 - x*sqrt(4*x*(x*cos(x) - 2) + (x + 2)**2)/2, 1, [Matrix([\n",
      "[-2*x**3/(x + sqrt(4*x**2*cos(x) + x**2 - 4*x + 4) - 2)],\n",
      "[                                                     1]])]), (x*(x + 2)/2 + x*sqrt(4*x*(x*cos(x) - 2) + (x + 2)**2)/2, 1, [Matrix([\n",
      "[-2*x**3/(x - sqrt(4*x**2*cos(x) + x**2 - 4*x + 4) - 2)],\n",
      "[                                                     1]])])]\n"
     ]
    }
   ],
   "source": [
    "V = A.eigenvects()\n",
    "print(V)"
   ]
  },
  {
   "cell_type": "markdown",
   "metadata": {},
   "source": [
    "## Summation"
   ]
  },
  {
   "cell_type": "code",
   "execution_count": 14,
   "metadata": {},
   "outputs": [
    {
     "name": "stdout",
     "output_type": "stream",
     "text": [
      "55\n"
     ]
    }
   ],
   "source": [
    "x,n = sp.symbols('x n')\n",
    "# term = x**n\n",
    "term =n\n",
    "sum = sp.summation(term,(n,1,10))\n",
    "print(sum)"
   ]
  },
  {
   "cell_type": "markdown",
   "metadata": {},
   "source": [
    "## differentiation and Integration"
   ]
  },
  {
   "cell_type": "code",
   "execution_count": 33,
   "metadata": {},
   "outputs": [
    {
     "name": "stdout",
     "output_type": "stream",
     "text": [
      "cos(x)\n",
      "-sin(x)\n",
      "-0.801143615546934\n",
      "[pi/2, 3*pi/2]\n"
     ]
    }
   ],
   "source": [
    "y = sp.sin(x)\n",
    "\n",
    "# y= x**3*sp.sin(x)+ 2*x +sp.cos(x)\n",
    "y_dx = sp.diff(y,x)\n",
    "print(y_dx)\n",
    "y_dx2 = sp.diff(y,x,2)\n",
    "print(y_dx2)\n",
    "print(y_dx.subs(x,2.5))\n",
    "print(sp.solve(y_dx)) # how to get in different intervals\n"
   ]
  },
  {
   "cell_type": "code",
   "execution_count": 56,
   "metadata": {},
   "outputs": [
    {
     "data": {
      "text/latex": [
       "$\\displaystyle - x \\cos{\\left(x \\right)} + \\sin{\\left(x \\right)}$"
      ],
      "text/plain": [
       "-x*cos(x) + sin(x)"
      ]
     },
     "execution_count": 56,
     "metadata": {},
     "output_type": "execute_result"
    }
   ],
   "source": [
    "y = sp.sin(x)*x\n",
    "# y_intg = sp.integrate(y,(x,0,sp.pi))\n",
    "# print(y_intg.evalf(1000))\n",
    "y_intg = sp.integrate(y,x)\n",
    "y_intg"
   ]
  },
  {
   "cell_type": "markdown",
   "metadata": {},
   "source": [
    "## Differential Equation"
   ]
  },
  {
   "cell_type": "code",
   "execution_count": 55,
   "metadata": {},
   "outputs": [
    {
     "data": {
      "text/latex": [
       "$\\displaystyle y{\\left(x \\right)} = \\left(1 - \\frac{x}{2}\\right) \\cos{\\left(x \\right)}$"
      ],
      "text/plain": [
       "Eq(y(x), (1 - x/2)*cos(x))"
      ]
     },
     "execution_count": 55,
     "metadata": {},
     "output_type": "execute_result"
    }
   ],
   "source": [
    "x = sp.symbols('x')\n",
    "y = sp.Function('y')(x)\n",
    "diff_eq = sp.Eq(y.diff(x,x)+y,sp.sin(x))\n",
    "bcs_1 = {y.subs(x,0):1, y.subs(x,sp.pi/2):0} # boundary conditions at x=0 and x=pi/2\n",
    "sol = sp.dsolve(diff_eq,ics=bcs_1)\n",
    "sol"
   ]
  },
  {
   "cell_type": "code",
   "execution_count": 53,
   "metadata": {},
   "outputs": [
    {
     "data": {
      "text/latex": [
       "$\\displaystyle y{\\left(t \\right)} = \\left(- \\frac{3 a}{\\sqrt{a^{2} - 4 b}} + 3\\right) e^{- \\frac{t \\left(a + \\sqrt{a^{2} - 4 b}\\right)}{2}} + \\left(\\frac{3 a}{\\sqrt{a^{2} - 4 b}} + 3\\right) e^{\\frac{t \\left(- a + \\sqrt{a^{2} - 4 b}\\right)}{2}}$"
      ],
      "text/plain": [
       "Eq(y(t), (-3*a/sqrt(a**2 - 4*b) + 3)*exp(-t*(a + sqrt(a**2 - 4*b))/2) + (3*a/sqrt(a**2 - 4*b) + 3)*exp(t*(-a + sqrt(a**2 - 4*b))/2))"
      ]
     },
     "execution_count": 53,
     "metadata": {},
     "output_type": "execute_result"
    }
   ],
   "source": [
    "# SHM\n",
    "t = sp.Symbol('t')\n",
    "y = sp.Function('y')(t)\n",
    "a, b = sp.symbols('a b')\n",
    "diffeq = sp.Eq(y.diff(t,t)+a*y.diff(t)+ b*y,0)\n",
    "bcs = {y.subs(t,0):6, y.diff(t).subs(t,0):0}\n",
    "sol = sp.dsolve(diffeq,ics=bcs)\n",
    "sol\n",
    "\n"
   ]
  },
  {
   "cell_type": "code",
   "execution_count": 54,
   "metadata": {},
   "outputs": [
    {
     "data": {
      "text/latex": [
       "$\\displaystyle y{\\left(t \\right)} = t$"
      ],
      "text/plain": [
       "Eq(y(t), t)"
      ]
     },
     "execution_count": 54,
     "metadata": {},
     "output_type": "execute_result"
    }
   ],
   "source": [
    "t = sp.Symbol('t')\n",
    "y = sp.Function('y')(t)\n",
    "diffeq = sp.Eq(y.diff(t),y/t) # y'=y/t\n",
    "bcs ={y.subs(t,1):1}\n",
    "solv =sp.dsolve(diffeq,ics=bcs)\n",
    "solv"
   ]
  },
  {
   "cell_type": "code",
   "execution_count": 65,
   "metadata": {},
   "outputs": [
    {
     "name": "stdout",
     "output_type": "stream",
     "text": [
      "0.062499999999999986\n"
     ]
    }
   ],
   "source": [
    "import numpy as np\n",
    "import matplotlib.pyplot as plt\n",
    "y, mu, G, H = sp.symbols('y mu G H')\n",
    "U = sp.Function('U')(y)\n",
    "u_govern = sp.Eq(U.diff(y,y),G/mu)\n",
    "bcs ={U.subs(y,0):0, U.subs(y,H):0}\n",
    "sol = sp.dsolve(u_govern,ics=bcs)\n",
    "sol\n",
    "u_val = sol.rhs\n",
    "given ={ 'G':-0.05, 'H':0.1, 'mu':0.001}\n",
    "u_v = u_val.subs(given)\n",
    "u_num = sp.lambdify(y,u_v,'numpy')\n",
    "y_val = np.linspace(0,0.1,100)\n",
    "u_val = u_num(y_val)\n",
    "print(u_num(0.05))"
   ]
  },
  {
   "cell_type": "code",
   "execution_count": 70,
   "metadata": {},
   "outputs": [
    {
     "data": {
      "text/plain": [
       "Text(0.5, 1.0, 'Velocity profile')"
      ]
     },
     "execution_count": 70,
     "metadata": {},
     "output_type": "execute_result"
    },
    {
     "data": {
      "image/png": "[encoded data removed]",
      "text/plain": [
       "<Figure size 640x480 with 1 Axes>"
      ]
     },
     "metadata": {},
     "output_type": "display_data"
    }
   ],
   "source": [
    "plt.plot(u_val,y_val)\n",
    "plt.xlabel('U')\n",
    "plt.ylabel('y')\n",
    "plt.title('Velocity profile')"
   ]
  },
  {
   "cell_type": "code",
   "execution_count": null,
   "metadata": {},
   "outputs": [],
   "source": []
  },
  {
   "cell_type": "code",
   "execution_count": 88,
   "metadata": {},
   "outputs": [
    {
     "data": {
      "text/latex": [
       "$\\displaystyle A T_{0} k m \\tanh{\\left(L m \\right)}$"
      ],
      "text/plain": [
       "A*T0*k*m*tanh(L*m)"
      ]
     },
     "execution_count": 88,
     "metadata": {},
     "output_type": "execute_result"
    }
   ],
   "source": [
    "# one D heat transfer along a fin\n",
    "x, m, L, T0, k, A= sp.symbols('x m L T0 k A')\n",
    "T = sp.Function('T')(x)\n",
    "diffeq = sp.Eq(T.diff(x,x)-(m**2)*T,0) \n",
    "bcs = {T.diff(x).subs(x, L): 0,T.subs(x,0):T0}\n",
    "solv = sp.dsolve(diffeq, ics=bcs)\n",
    "solv\n",
    "Tht = solv.rhs\n",
    "Q = -k*A*sp.diff(Tht,x)\n",
    "Q_h = sp.simplify(Q)\n",
    "Q_b = Q_h.subs(x,0)\n",
    "sp.simplify(Q_b)"
   ]
  }
 ],
 "metadata": {
  "kernelspec": {
   "display_name": "Python 3",
   "language": "python",
   "name": "python3"
  },
  "language_info": {
   "codemirror_mode": {
    "name": "ipython",
    "version": 3
   },
   "file_extension": ".py",
   "mimetype": "text/x-python",
   "name": "python",
   "nbconvert_exporter": "python",
   "pygments_lexer": "ipython3",
   "version": "3.10.6"
  }
 },
 "nbformat": 4,
 "nbformat_minor": 2
}
