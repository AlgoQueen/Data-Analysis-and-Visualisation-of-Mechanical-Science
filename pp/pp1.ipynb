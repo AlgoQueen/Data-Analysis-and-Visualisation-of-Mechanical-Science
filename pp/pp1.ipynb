{
 "cells": [
  {
   "cell_type": "code",
   "execution_count": 2,
   "metadata": {},
   "outputs": [],
   "source": [
    "import numpy as np"
   ]
  },
  {
   "cell_type": "code",
   "execution_count": 3,
   "metadata": {},
   "outputs": [
    {
     "data": {
      "text/plain": [
       "array([[1., 0., 0.],\n",
       "       [0., 1., 0.],\n",
       "       [0., 0., 1.]])"
      ]
     },
     "execution_count": 3,
     "metadata": {},
     "output_type": "execute_result"
    }
   ],
   "source": [
    "a = np.zeros((3,3))\n",
    "np.fill_diagonal(a,1)\n",
    "a"
   ]
  },
  {
   "cell_type": "code",
   "execution_count": 4,
   "metadata": {},
   "outputs": [
    {
     "name": "stdout",
     "output_type": "stream",
     "text": [
      "[[22 27 41 25 28]\n",
      " [29 39 19 20 33]\n",
      " [39 15 12 28 19]\n",
      " [11 22 28 23 18]\n",
      " [16 13 15 11 41]]\n"
     ]
    },
    {
     "data": {
      "text/plain": [
       "array([[22, 27, -1, 25, 28],\n",
       "       [29, -1, 19, 20, -1],\n",
       "       [-1, 15, 12, 28, 19],\n",
       "       [11, 22, 28, 23, 18],\n",
       "       [16, 13, 15, 11, -1]])"
      ]
     },
     "execution_count": 4,
     "metadata": {},
     "output_type": "execute_result"
    }
   ],
   "source": [
    "m1 = np.random.randint(10,50,(5,5))\n",
    "print(m1)\n",
    "m1[m1>30] = -1\n",
    "m1"
   ]
  },
  {
   "cell_type": "code",
   "execution_count": 5,
   "metadata": {},
   "outputs": [
    {
     "name": "stdout",
     "output_type": "stream",
     "text": [
      "[[0.60949207 0.56842105 0.8493613  0.29416234]\n",
      " [0.65730753 0.5266533  0.3218953  0.28227947]\n",
      " [0.29158172 0.42947772 0.0094228  0.69875373]\n",
      " [0.94550471 0.54218775 0.09570916 0.00804712]]\n",
      "12\n",
      "(3, 0)\n"
     ]
    }
   ],
   "source": [
    "rm=np.random.rand(4,4)\n",
    "print(rm)\n",
    "a = np.argmax(rm)\n",
    "print(a)\n",
    "max_in=np.unravel_index(np.argmax(rm, axis=None), rm.shape)\n",
    "print(max_in)"
   ]
  },
  {
   "cell_type": "code",
   "execution_count": 6,
   "metadata": {},
   "outputs": [
    {
     "name": "stdout",
     "output_type": "stream",
     "text": [
      "[[ 11 729   1 625  14]\n",
      " [841   1 361  10   1]\n",
      " [  1 225   6  14 361]\n",
      " [121  11  14 529   9]\n",
      " [  8 169 225 121   1]]\n",
      "[[22 27 -1 25 28]\n",
      " [29 -1 19 20 -1]\n",
      " [-1 15 12 28 19]\n",
      " [11 22 28 23 18]\n",
      " [16 13 15 11 -1]]\n"
     ]
    }
   ],
   "source": [
    "def transf(m):\n",
    "    tm = np.array([[int(e/2) if e%2 == 0 else int(e**2) for e in row]for row in m])\n",
    "    return tm\n",
    "\n",
    "\n",
    "# print(transf(np.array([[4, 3, 6, 7],\n",
    "#                        [2, 9, 8, 5],\n",
    "#                        [10, 11, 14, 13],\n",
    "#                        [12, 1, 16, 15]])))\n",
    "print(transf(m1))\n",
    "print(m1)"
   ]
  },
  {
   "cell_type": "code",
   "execution_count": 7,
   "metadata": {},
   "outputs": [
    {
     "name": "stdout",
     "output_type": "stream",
     "text": [
      "[  0.           5.26315789  10.52631579  15.78947368  21.05263158\n",
      "  26.31578947  31.57894737  36.84210526  42.10526316  47.36842105\n",
      "  52.63157895  57.89473684  63.15789474  68.42105263  73.68421053\n",
      "  78.94736842  84.21052632  89.47368421  94.73684211 100.        ]\n"
     ]
    }
   ],
   "source": [
    "l1 = np.linspace(0,100,20)\n",
    "print(l1)"
   ]
  },
  {
   "cell_type": "code",
   "execution_count": 8,
   "metadata": {},
   "outputs": [],
   "source": [
    "# Create a matrix where each element is the product of its row and column indices\n",
    "def prod_matrix(n):\n",
    "    return np.fromfunction(lambda i, j: i*j, (n, n), dtype=int)"
   ]
  },
  {
   "cell_type": "code",
   "execution_count": 16,
   "metadata": {},
   "outputs": [
    {
     "data": {
      "text/plain": [
       "array([[1., 1., 1., 1., 1., 1., 1., 1., 1., 1.],\n",
       "       [1., 0., 0., 0., 0., 0., 0., 0., 0., 1.],\n",
       "       [1., 0., 0., 0., 0., 0., 0., 0., 0., 1.],\n",
       "       [1., 0., 0., 0., 0., 0., 0., 0., 0., 1.],\n",
       "       [1., 0., 0., 0., 0., 0., 0., 0., 0., 1.],\n",
       "       [1., 0., 0., 0., 0., 0., 0., 0., 0., 1.],\n",
       "       [1., 0., 0., 0., 0., 0., 0., 0., 0., 1.],\n",
       "       [1., 0., 0., 0., 0., 0., 0., 0., 0., 1.],\n",
       "       [1., 0., 0., 0., 0., 0., 0., 0., 0., 1.],\n",
       "       [1., 1., 1., 1., 1., 1., 1., 1., 1., 1.]])"
      ]
     },
     "execution_count": 16,
     "metadata": {},
     "output_type": "execute_result"
    }
   ],
   "source": [
    "#Create a 10x10 matrix where the elements on the boundary are 1 and all other elements are 0:\n",
    "# a=np.zeros((10,10))\n",
    "# a[0,:]=1\n",
    "# a[-1,:]=1\n",
    "# a[:,0]=1\n",
    "# a[:,-1]=1\n",
    "# a\n",
    "matrix = np.ones((10,10))\n",
    "matrix[1:-1,1:-1] = 0 # index from 1, but -1 th element wont be included only till -2\n",
    "matrix"
   ]
  },
  {
   "cell_type": "code",
   "execution_count": 25,
   "metadata": {},
   "outputs": [
    {
     "name": "stdout",
     "output_type": "stream",
     "text": [
      "[[0 0 1]\n",
      " [0 2 0]\n",
      " [0 0 1]]\n",
      "[[0 0 2]\n",
      " [0 0 0]\n",
      " [1 0 2]]\n"
     ]
    },
    {
     "data": {
      "text/plain": [
       "array([[False, False, False],\n",
       "       [False, False, False],\n",
       "       [False, False, False]])"
      ]
     },
     "execution_count": 25,
     "metadata": {},
     "output_type": "execute_result"
    }
   ],
   "source": [
    "# Create two matrices of shape 3x3. Add them together only if their sum is greater than a threshold value of 10\n",
    "m1 = np.random.randint(0,3,(3,3))\n",
    "m2 = np.random.randint(0,3,(3,3))\n",
    "print(m1)\n",
    "print(m2)\n",
    "threshold = 10\n",
    "m3 = m1+m2\n",
    "m3>threshold\n"
   ]
  },
  {
   "cell_type": "markdown",
   "metadata": {},
   "source": []
  }
 ],
 "metadata": {
  "kernelspec": {
   "display_name": "Python 3",
   "language": "python",
   "name": "python3"
  },
  "language_info": {
   "codemirror_mode": {
    "name": "ipython",
    "version": 3
   },
   "file_extension": ".py",
   "mimetype": "text/x-python",
   "name": "python",
   "nbconvert_exporter": "python",
   "pygments_lexer": "ipython3",
   "version": "3.10.6"
  }
 },
 "nbformat": 4,
 "nbformat_minor": 2
}
